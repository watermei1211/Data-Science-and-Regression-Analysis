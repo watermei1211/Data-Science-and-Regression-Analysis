{
 "cells": [
  {
   "cell_type": "markdown",
   "id": "70f00c9c",
   "metadata": {},
   "source": [
    "學號：0111109069 姓名：李佳毓\\\n",
    "作業題目：上傳w3影片的兩個codes檔\\\n",
    "繳交期限：2022/10/1 9:30"
   ]
  },
  {
   "cell_type": "markdown",
   "id": "cb9ab995",
   "metadata": {},
   "source": [
    "# 2.2.1多項式迴歸實作"
   ]
  },
  {
   "cell_type": "code",
   "execution_count": 1,
   "id": "49e0bc78",
   "metadata": {},
   "outputs": [],
   "source": [
    "import numpy as np\n",
    "import matplotlib.pyplot as plt"
   ]
  },
  {
   "cell_type": "markdown",
   "id": "343c8f5e",
   "metadata": {},
   "source": [
    "## Data"
   ]
  },
  {
   "cell_type": "code",
   "execution_count": 2,
   "id": "89bf7021",
   "metadata": {},
   "outputs": [],
   "source": [
    "np.random.seed(1)\n",
    "m = 100\n",
    "x1 = 10 * np.random.rand(m, 1) - 6\n",
    "y = 10 + 6 * x1 + 5 * x1**2 + 30 * np.random.randn(m,1)"
   ]
  },
  {
   "cell_type": "code",
   "execution_count": 3,
   "id": "9fe1baff",
   "metadata": {},
   "outputs": [
    {
     "data": {
      "image/png": "[encoded data removed]",
      "text/plain": [
       "<Figure size 216x144 with 1 Axes>"
      ]
     },
     "metadata": {
      "needs_background": "light"
     },
     "output_type": "display_data"
    }
   ],
   "source": [
    "plt.figure(figsize=(3, 2))\n",
    "plt.plot(x1, y, \"b.\")\n",
    "plt.xlabel(\"$x_1$\", fontsize=18)\n",
    "plt.ylabel(\"y\", rotation=0, fontsize=18)\n",
    "plt.show()"
   ]
  },
  {
   "cell_type": "markdown",
   "id": "77732e83",
   "metadata": {},
   "source": [
    "## 資料前處理 (Preprocession)\n",
    "### Feature Polynomia轉換(degree=2)"
   ]
  },
  {
   "cell_type": "code",
   "execution_count": 4,
   "id": "d1baf196",
   "metadata": {},
   "outputs": [],
   "source": [
    "from sklearn.preprocessing import PolynomialFeatures\n",
    "\n",
    "poly = PolynomialFeatures(degree=2, include_bias=False)\n",
    "x1_p = poly.fit_transform(x1)"
   ]
  },
  {
   "cell_type": "code",
   "execution_count": 5,
   "id": "9ea0ee0c",
   "metadata": {},
   "outputs": [
    {
     "data": {
      "text/plain": [
       "(array([-1.82977995]), array([-1.82977995,  3.34809468]))"
      ]
     },
     "execution_count": 5,
     "metadata": {},
     "output_type": "execute_result"
    }
   ],
   "source": [
    "x1[0], x1_p[0]"
   ]
  },
  {
   "cell_type": "markdown",
   "id": "1823977e",
   "metadata": {},
   "source": [
    "### Feature標準化"
   ]
  },
  {
   "cell_type": "code",
   "execution_count": 6,
   "id": "7a0cf521",
   "metadata": {},
   "outputs": [],
   "source": [
    "from sklearn.preprocessing import StandardScaler\n",
    "\n",
    "scal = StandardScaler()\n",
    "x1_ps = scal.fit_transform(x1_p)    #對Feature做標準化"
   ]
  },
  {
   "cell_type": "markdown",
   "id": "53781129",
   "metadata": {},
   "source": [
    "## 配適模型\n",
    "\n",
    "### Fit : 使用 LinearRegression()"
   ]
  },
  {
   "cell_type": "code",
   "execution_count": 7,
   "id": "35ac2b62",
   "metadata": {},
   "outputs": [
    {
     "data": {
      "text/plain": [
       "LinearRegression()"
      ]
     },
     "execution_count": 7,
     "metadata": {},
     "output_type": "execute_result"
    }
   ],
   "source": [
    "from sklearn.linear_model import LinearRegression\n",
    "\n",
    "poly_reg = LinearRegression()\n",
    "poly_reg.fit(x1_ps, y)"
   ]
  },
  {
   "cell_type": "code",
   "execution_count": 8,
   "id": "86e3c5d9",
   "metadata": {},
   "outputs": [
    {
     "data": {
      "text/plain": [
       "(array([55.51681743]), array([[17.42161695, 54.04329404]]))"
      ]
     },
     "execution_count": 8,
     "metadata": {},
     "output_type": "execute_result"
    }
   ],
   "source": [
    "poly_reg.intercept_, poly_reg.coef_"
   ]
  },
  {
   "cell_type": "markdown",
   "id": "60a38553",
   "metadata": {},
   "source": [
    "### Fit : 使用SGDRegressor()"
   ]
  },
  {
   "cell_type": "code",
   "execution_count": 9,
   "id": "1adbfd01",
   "metadata": {},
   "outputs": [
    {
     "data": {
      "text/plain": [
       "SGDRegressor()"
      ]
     },
     "execution_count": 9,
     "metadata": {},
     "output_type": "execute_result"
    }
   ],
   "source": [
    "from sklearn.linear_model import SGDRegressor\n",
    "\n",
    "sgd_reg = SGDRegressor()\n",
    "sgd_reg.fit(x1_ps, y.ravel())"
   ]
  },
  {
   "cell_type": "code",
   "execution_count": 10,
   "id": "cb308731",
   "metadata": {},
   "outputs": [
    {
     "data": {
      "text/plain": [
       "(array([55.56352038]), array([16.94170371, 53.59058434]))"
      ]
     },
     "execution_count": 10,
     "metadata": {},
     "output_type": "execute_result"
    }
   ],
   "source": [
    "sgd_reg.intercept_, sgd_reg.coef_"
   ]
  },
  {
   "cell_type": "markdown",
   "id": "60b6dc86",
   "metadata": {},
   "source": [
    "## Predict"
   ]
  },
  {
   "cell_type": "code",
   "execution_count": 11,
   "id": "2a23a499",
   "metadata": {},
   "outputs": [],
   "source": [
    "x_new = ([[-5], [1]])\n",
    "x_new_p = poly.transform(x_new)\n",
    "x_new_ps = scal.transform(x_new_p)"
   ]
  },
  {
   "cell_type": "code",
   "execution_count": 12,
   "id": "43c752af",
   "metadata": {},
   "outputs": [
    {
     "data": {
      "text/plain": [
       "array([[113.63626971],\n",
       "       [ 19.87706932]])"
      ]
     },
     "execution_count": 12,
     "metadata": {},
     "output_type": "execute_result"
    }
   ],
   "source": [
    "poly_reg.predict(x_new_ps)"
   ]
  },
  {
   "cell_type": "code",
   "execution_count": 13,
   "id": "ea9032c3",
   "metadata": {},
   "outputs": [
    {
     "data": {
      "text/plain": [
       "array([113.6338666 ,  19.97941421])"
      ]
     },
     "execution_count": 13,
     "metadata": {},
     "output_type": "execute_result"
    }
   ],
   "source": [
    "sgd_reg.predict(x_new_ps)"
   ]
  },
  {
   "cell_type": "markdown",
   "id": "bb4dca4c",
   "metadata": {},
   "source": [
    "## 使用Pipline\n",
    "\n",
    "### 建構Pipeline"
   ]
  },
  {
   "cell_type": "code",
   "execution_count": 14,
   "id": "d91cf9bc",
   "metadata": {},
   "outputs": [],
   "source": [
    "from sklearn.pipeline import Pipeline"
   ]
  },
  {
   "cell_type": "code",
   "execution_count": 15,
   "id": "4c47c4ce",
   "metadata": {},
   "outputs": [],
   "source": [
    "pip_reg = Pipeline([\n",
    "    ('poly', PolynomialFeatures(degree=2, include_bias=False)),\n",
    "    ('scal', StandardScaler()),\n",
    "    ('poly_reg', LinearRegression())\n",
    "])"
   ]
  },
  {
   "cell_type": "markdown",
   "id": "f5b61449",
   "metadata": {},
   "source": [
    "### Fit"
   ]
  },
  {
   "cell_type": "code",
   "execution_count": 16,
   "id": "e420cf06",
   "metadata": {},
   "outputs": [
    {
     "data": {
      "text/plain": [
       "Pipeline(steps=[('poly', PolynomialFeatures(include_bias=False)),\n",
       "                ('scal', StandardScaler()), ('poly_reg', LinearRegression())])"
      ]
     },
     "execution_count": 16,
     "metadata": {},
     "output_type": "execute_result"
    }
   ],
   "source": [
    "pip_reg.fit(x1, y)"
   ]
  },
  {
   "cell_type": "code",
   "execution_count": 17,
   "id": "2cb5ce4b",
   "metadata": {},
   "outputs": [
    {
     "data": {
      "text/plain": [
       "(array([55.51681743]), array([[17.42161695, 54.04329404]]))"
      ]
     },
     "execution_count": 17,
     "metadata": {},
     "output_type": "execute_result"
    }
   ],
   "source": [
    "pip_reg['poly_reg'].intercept_, pip_reg['poly_reg'].coef_"
   ]
  },
  {
   "cell_type": "markdown",
   "id": "fdbc7cbb",
   "metadata": {},
   "source": [
    "### Predict"
   ]
  },
  {
   "cell_type": "code",
   "execution_count": 18,
   "id": "4ea530f2",
   "metadata": {},
   "outputs": [
    {
     "data": {
      "text/plain": [
       "array([[113.63626971],\n",
       "       [ 19.87706932]])"
      ]
     },
     "execution_count": 18,
     "metadata": {},
     "output_type": "execute_result"
    }
   ],
   "source": [
    "x_new = ([[-5],[1]])\n",
    "\n",
    "pip_reg.predict(x_new)"
   ]
  },
  {
   "cell_type": "markdown",
   "id": "8b4c0213",
   "metadata": {},
   "source": [
    "## 繪製模型"
   ]
  },
  {
   "cell_type": "code",
   "execution_count": 19,
   "id": "016272fa",
   "metadata": {},
   "outputs": [
    {
     "data": {
      "image/png": "[encoded data removed]",
      "text/plain": [
       "<Figure size 216x144 with 1 Axes>"
      ]
     },
     "metadata": {
      "needs_background": "light"
     },
     "output_type": "display_data"
    }
   ],
   "source": [
    "plt.figure(figsize=(3,2))\n",
    "\n",
    "x1s = np.linspace(x1.min(), x1.max(), 100).reshape(-1,1)\n",
    "y_pred = pip_reg.predict(x1s)\n",
    "\n",
    "plt.plot(x1, y, \"b.\")\n",
    "plt.plot(x1s, y_pred, \"r-\", linewidth=2, label=\"$\\hat y$\")\n",
    "\n",
    "plt.xlabel(\"$x_1$\", fontsize=18)\n",
    "plt.ylabel(\"y\", rotation=0, fontsize=18)\n",
    "plt.legend(loc=\"upper right\", fontsize=12)\n",
    "\n",
    "plt.show()"
   ]
  },
  {
   "cell_type": "markdown",
   "id": "c8f172f9",
   "metadata": {},
   "source": [
    "# 2.3.1 正則化線性模型 \n",
    "## (1)Regularized Linear Model"
   ]
  },
  {
   "cell_type": "code",
   "execution_count": 20,
   "id": "0d70e423",
   "metadata": {},
   "outputs": [],
   "source": [
    "import numpy as np\n",
    "import matplotlib.pyplot as plt"
   ]
  },
  {
   "cell_type": "markdown",
   "id": "d287ac22",
   "metadata": {},
   "source": [
    "### Data"
   ]
  },
  {
   "cell_type": "code",
   "execution_count": 21,
   "id": "d06c0c20",
   "metadata": {},
   "outputs": [],
   "source": [
    "np.random.seed(1)\n",
    "m = 100\n",
    "x1 = 10 * np.random.rand(m, 1) - 6\n",
    "y = 10 + 6 * x1 + 5 * x1**2 + 30 * np.random.randn(m,1)"
   ]
  },
  {
   "cell_type": "code",
   "execution_count": 22,
   "id": "40f07db8",
   "metadata": {},
   "outputs": [
    {
     "data": {
      "image/png": "[encoded data removed]",
      "text/plain": [
       "<Figure size 288x216 with 1 Axes>"
      ]
     },
     "metadata": {
      "needs_background": "light"
     },
     "output_type": "display_data"
    }
   ],
   "source": [
    "plt.figure(figsize=(4, 3))\n",
    "plt.plot(x1, y, \"b.\", markersize=3)\n",
    "plt.xlabel(\"$x_1$\", fontsize=18)\n",
    "plt.ylabel(\"y\", rotation=0, fontsize=18)\n",
    "plt.savefig(\"plot_1.pdf\", dpi=300, bbox_inches='tight')\n",
    "plt.show()"
   ]
  },
  {
   "cell_type": "markdown",
   "id": "cf04456c",
   "metadata": {},
   "source": [
    "### Split 訓練集/測試集"
   ]
  },
  {
   "cell_type": "code",
   "execution_count": 23,
   "id": "126ffc48",
   "metadata": {},
   "outputs": [],
   "source": [
    "from sklearn.model_selection import train_test_split\n",
    "\n",
    "x1_train, x1_test, y_train, y_test = train_test_split(x1, y, test_size=0.2, \\\n",
    "                                                     random_state=1)"
   ]
  },
  {
   "cell_type": "markdown",
   "id": "80e5b0f0",
   "metadata": {},
   "source": [
    "### Ridge Regression"
   ]
  },
  {
   "cell_type": "code",
   "execution_count": 24,
   "id": "1495ec6c",
   "metadata": {},
   "outputs": [],
   "source": [
    "from sklearn.pipeline import Pipeline\n",
    "from sklearn.preprocessing import PolynomialFeatures, StandardScaler"
   ]
  },
  {
   "cell_type": "markdown",
   "id": "345924e1",
   "metadata": {},
   "source": [
    "### 使用Ridge() : Closed-form"
   ]
  },
  {
   "cell_type": "code",
   "execution_count": 25,
   "id": "65f209bb",
   "metadata": {},
   "outputs": [
    {
     "data": {
      "text/plain": [
       "Pipeline(steps=[('poly', PolynomialFeatures(include_bias=False)),\n",
       "                ('scal', StandardScaler()),\n",
       "                ('ridge', Ridge(alpha=50.0, random_state=1))])"
      ]
     },
     "execution_count": 25,
     "metadata": {},
     "output_type": "execute_result"
    }
   ],
   "source": [
    "from sklearn.linear_model import Ridge\n",
    "ridge_reg = Pipeline([\n",
    "    ('poly', PolynomialFeatures(degree=2, include_bias=False)),\n",
    "    ('scal', StandardScaler()),\n",
    "    ('ridge', Ridge(alpha=m/2, random_state=1))\n",
    "])\n",
    "ridge_reg.fit(x1_train, y_train)"
   ]
  },
  {
   "cell_type": "code",
   "execution_count": 26,
   "id": "d01960c2",
   "metadata": {},
   "outputs": [
    {
     "data": {
      "text/plain": [
       "(0.5624715988861847, 0.5000997386648433)"
      ]
     },
     "execution_count": 26,
     "metadata": {},
     "output_type": "execute_result"
    }
   ],
   "source": [
    "ridge_reg.score(x1_train, y_train), ridge_reg.score(x1_test, y_test)"
   ]
  },
  {
   "cell_type": "code",
   "execution_count": 27,
   "id": "796731f1",
   "metadata": {},
   "outputs": [
    {
     "data": {
      "text/plain": [
       "array([[50.49773754],\n",
       "       [59.13869604],\n",
       "       [31.86781274]])"
      ]
     },
     "execution_count": 27,
     "metadata": {},
     "output_type": "execute_result"
    }
   ],
   "source": [
    "ridge_reg.predict(x1_test[:3])"
   ]
  },
  {
   "cell_type": "markdown",
   "id": "52afac36",
   "metadata": {},
   "source": [
    "### 使用SGDRegressor() : 梯度下降"
   ]
  },
  {
   "cell_type": "code",
   "execution_count": 28,
   "id": "f26a8394",
   "metadata": {},
   "outputs": [
    {
     "data": {
      "text/plain": [
       "Pipeline(steps=[('poly', PolynomialFeatures(include_bias=False)),\n",
       "                ('scal', StandardScaler()),\n",
       "                ('ridge', SGDRegressor(alpha=1, random_state=1))])"
      ]
     },
     "execution_count": 28,
     "metadata": {},
     "output_type": "execute_result"
    }
   ],
   "source": [
    "from sklearn.linear_model import SGDRegressor\n",
    "ridge_sgd = Pipeline([\n",
    "    ('poly', PolynomialFeatures(degree=2, include_bias=False)),\n",
    "    ('scal', StandardScaler()),\n",
    "    ('ridge', SGDRegressor(penalty='l2', alpha=1, random_state=1))\n",
    "])\n",
    "ridge_sgd.fit(x1_train, y_train.ravel())"
   ]
  },
  {
   "cell_type": "code",
   "execution_count": 29,
   "id": "2a2d350a",
   "metadata": {},
   "outputs": [
    {
     "data": {
      "text/plain": [
       "(0.48914255940966433, 0.4132817374249068)"
      ]
     },
     "execution_count": 29,
     "metadata": {},
     "output_type": "execute_result"
    }
   ],
   "source": [
    "ridge_sgd.score(x1_train, y_train), ridge_sgd.score(x1_test, y_test)"
   ]
  },
  {
   "cell_type": "code",
   "execution_count": 30,
   "id": "51e559bd",
   "metadata": {},
   "outputs": [
    {
     "data": {
      "text/plain": [
       "array([47.78375855, 58.58856714, 35.37888686])"
      ]
     },
     "execution_count": 30,
     "metadata": {},
     "output_type": "execute_result"
    }
   ],
   "source": [
    "ridge_sgd.predict(x1_test[:3])"
   ]
  },
  {
   "cell_type": "markdown",
   "id": "32661934",
   "metadata": {},
   "source": [
    "### 繪製模型"
   ]
  },
  {
   "cell_type": "code",
   "execution_count": 31,
   "id": "449e283f",
   "metadata": {},
   "outputs": [],
   "source": [
    "def plot_model(model, x1, y):\n",
    "    x1s = np.linspace(x1.min(), x1.max(), 1000).reshape(-1,1)\n",
    "    y_pred = model.predict(x1s)\n",
    "    \n",
    "    plt.plot(x1_train, y_train, 'b.', markersize=3)\n",
    "    plt.plot(x1_test, y_test, 'gx', markersize=3)\n",
    "    plt.plot(x1s, y_pred, \"r-\", linewidth=2, label=\"$\\hat y$\")\n",
    "    \n",
    "    plt.xlabel(\"$x_1$\", fontsize=18)\n",
    "    plt.ylabel(\"y\", rotation=0, fontsize=18)\n",
    "    plt.legend(loc=\"upper center\", fontsize=10)\n",
    "    plt.axis([x1.min()-0.1, x1.max()+0.1, y.min()-5, y.max()+5])"
   ]
  },
  {
   "cell_type": "code",
   "execution_count": 32,
   "id": "cc418d7a",
   "metadata": {},
   "outputs": [
    {
     "data": {
      "image/png": "[encoded data removed]",
      "text/plain": [
       "<Figure size 288x216 with 1 Axes>"
      ]
     },
     "metadata": {
      "needs_background": "light"
     },
     "output_type": "display_data"
    }
   ],
   "source": [
    "plt.figure(figsize=(4,3))\n",
    "plot_model(ridge_reg, x1, y)\n",
    "plt.show()"
   ]
  },
  {
   "cell_type": "markdown",
   "id": "c595ce8b",
   "metadata": {},
   "source": [
    "## (2)Lesso Regression"
   ]
  },
  {
   "cell_type": "code",
   "execution_count": 33,
   "id": "b8bc7b6a",
   "metadata": {},
   "outputs": [],
   "source": [
    "from sklearn.pipeline import Pipeline\n",
    "from sklearn.preprocessing import PolynomialFeatures, StandardScaler"
   ]
  },
  {
   "cell_type": "markdown",
   "id": "30925a13",
   "metadata": {},
   "source": [
    "### 使用Lasso()"
   ]
  },
  {
   "cell_type": "code",
   "execution_count": 34,
   "id": "e9dbbd78",
   "metadata": {},
   "outputs": [
    {
     "data": {
      "text/plain": [
       "Pipeline(steps=[('poly', PolynomialFeatures(include_bias=False)),\n",
       "                ('scal', StandardScaler()),\n",
       "                ('lasso', Lasso(alpha=1, random_state=1))])"
      ]
     },
     "execution_count": 34,
     "metadata": {},
     "output_type": "execute_result"
    }
   ],
   "source": [
    "from sklearn.linear_model import Lasso\n",
    "lasso_reg = Pipeline([\n",
    "    ('poly', PolynomialFeatures(degree=2, include_bias=False)),\n",
    "    ('scal', StandardScaler()),\n",
    "    ('lasso', Lasso(alpha=1, random_state=1))\n",
    "])\n",
    "lasso_reg.fit(x1_train, y_train)"
   ]
  },
  {
   "cell_type": "code",
   "execution_count": 35,
   "id": "67692479",
   "metadata": {},
   "outputs": [
    {
     "data": {
      "text/plain": [
       "(0.7289049773635354, 0.7090703555227444)"
      ]
     },
     "execution_count": 35,
     "metadata": {},
     "output_type": "execute_result"
    }
   ],
   "source": [
    "lasso_reg.score(x1_train, y_train), lasso_reg.score(x1_test, y_test)"
   ]
  },
  {
   "cell_type": "code",
   "execution_count": 36,
   "id": "cf2cd6a8",
   "metadata": {},
   "outputs": [
    {
     "data": {
      "text/plain": [
       "array([63.93127861, 47.72171974,  7.57641004])"
      ]
     },
     "execution_count": 36,
     "metadata": {},
     "output_type": "execute_result"
    }
   ],
   "source": [
    "lasso_reg.predict(x1_test[:3])"
   ]
  },
  {
   "cell_type": "markdown",
   "id": "401c2e81",
   "metadata": {},
   "source": [
    "### 使用SGDRegressor() : 梯度下降"
   ]
  },
  {
   "cell_type": "code",
   "execution_count": 37,
   "id": "3861acc6",
   "metadata": {},
   "outputs": [
    {
     "data": {
      "text/plain": [
       "Pipeline(steps=[('poly', PolynomialFeatures(include_bias=False)),\n",
       "                ('scal', StandardScaler()),\n",
       "                ('lasso', SGDRegressor(alpha=1, penalty='l1', random_state=1))])"
      ]
     },
     "execution_count": 37,
     "metadata": {},
     "output_type": "execute_result"
    }
   ],
   "source": [
    "from sklearn.linear_model import SGDRegressor\n",
    "lasso_sgd = Pipeline([\n",
    "    ('poly', PolynomialFeatures(degree=2, include_bias=False)),\n",
    "    ('scal', StandardScaler()),\n",
    "    ('lasso', SGDRegressor(penalty='l1', alpha=1, random_state=1))\n",
    "])\n",
    "lasso_sgd.fit(x1_train, y_train.ravel())"
   ]
  },
  {
   "cell_type": "code",
   "execution_count": 38,
   "id": "003c364e",
   "metadata": {},
   "outputs": [
    {
     "data": {
      "text/plain": [
       "(0.7284890196449929, 0.7089179245883366)"
      ]
     },
     "execution_count": 38,
     "metadata": {},
     "output_type": "execute_result"
    }
   ],
   "source": [
    "lasso_sgd.score(x1_train, y_train), lasso_sgd.score(x1_test, y_test)"
   ]
  },
  {
   "cell_type": "code",
   "execution_count": 39,
   "id": "a4acd053",
   "metadata": {},
   "outputs": [
    {
     "data": {
      "text/plain": [
       "array([63.65542504, 47.90341769,  7.82005821])"
      ]
     },
     "execution_count": 39,
     "metadata": {},
     "output_type": "execute_result"
    }
   ],
   "source": [
    "lasso_sgd.predict(x1_test[:3])"
   ]
  },
  {
   "cell_type": "markdown",
   "id": "a16713b2",
   "metadata": {},
   "source": [
    "### 繪製模型"
   ]
  },
  {
   "cell_type": "code",
   "execution_count": 40,
   "id": "7022aae5",
   "metadata": {},
   "outputs": [
    {
     "data": {
      "image/png": "[encoded data removed]",
      "text/plain": [
       "<Figure size 288x216 with 1 Axes>"
      ]
     },
     "metadata": {
      "needs_background": "light"
     },
     "output_type": "display_data"
    }
   ],
   "source": [
    "plt.figure(figsize=(4,3))\n",
    "plot_model(lasso_reg, x1, y)\n",
    "plt.show()"
   ]
  },
  {
   "cell_type": "markdown",
   "id": "f871737d",
   "metadata": {},
   "source": [
    "## (3)Elastic Net"
   ]
  },
  {
   "cell_type": "code",
   "execution_count": 41,
   "id": "0a570f3d",
   "metadata": {},
   "outputs": [],
   "source": [
    "from sklearn.pipeline import Pipeline\n",
    "from sklearn.preprocessing import PolynomialFeatures, StandardScaler"
   ]
  },
  {
   "cell_type": "markdown",
   "id": "ca47fb89",
   "metadata": {},
   "source": [
    "### 使用ElasticNet()"
   ]
  },
  {
   "cell_type": "code",
   "execution_count": 42,
   "id": "e6786add",
   "metadata": {},
   "outputs": [],
   "source": [
    "from sklearn.linear_model import ElasticNet\n",
    "elastic_reg = Pipeline([\n",
    "    ('poly', PolynomialFeatures(degree=2, include_bias=False)),\n",
    "    ('scal', StandardScaler()),\n",
    "    ('elastic', ElasticNet(alpha=1, l1_ratio=0.5, random_state=1))\n",
    "])"
   ]
  },
  {
   "cell_type": "code",
   "execution_count": 43,
   "id": "c58806f6",
   "metadata": {},
   "outputs": [
    {
     "data": {
      "text/plain": [
       "Pipeline(steps=[('poly', PolynomialFeatures(include_bias=False)),\n",
       "                ('scal', StandardScaler()),\n",
       "                ('elastic', ElasticNet(alpha=1, random_state=1))])"
      ]
     },
     "execution_count": 43,
     "metadata": {},
     "output_type": "execute_result"
    }
   ],
   "source": [
    "elastic_reg.fit(x1_train, y_train)"
   ]
  },
  {
   "cell_type": "code",
   "execution_count": 44,
   "id": "ee39719a",
   "metadata": {},
   "outputs": [
    {
     "data": {
      "text/plain": [
       "(0.5863340512948914, 0.5331573407141718)"
      ]
     },
     "execution_count": 44,
     "metadata": {},
     "output_type": "execute_result"
    }
   ],
   "source": [
    "elastic_reg.score(x1_train, y_train), elastic_reg.score(x1_test, y_test)"
   ]
  },
  {
   "cell_type": "code",
   "execution_count": 45,
   "id": "7cbd1247",
   "metadata": {},
   "outputs": [
    {
     "data": {
      "text/plain": [
       "array([50.69422872, 58.62751416, 29.73199465])"
      ]
     },
     "execution_count": 45,
     "metadata": {},
     "output_type": "execute_result"
    }
   ],
   "source": [
    "elastic_reg.predict(x1_test[:3])"
   ]
  },
  {
   "cell_type": "markdown",
   "id": "1c5c830b",
   "metadata": {},
   "source": [
    "### 使用SGDRegressor() : 梯度下降"
   ]
  },
  {
   "cell_type": "code",
   "execution_count": 46,
   "id": "e959880e",
   "metadata": {},
   "outputs": [
    {
     "data": {
      "text/plain": [
       "Pipeline(steps=[('poly', PolynomialFeatures(include_bias=False)),\n",
       "                ('scal', StandardScaler()),\n",
       "                ('elastic',\n",
       "                 SGDRegressor(alpha=1, l1_ratio=0.5, random_state=1))])"
      ]
     },
     "execution_count": 46,
     "metadata": {},
     "output_type": "execute_result"
    }
   ],
   "source": [
    "from sklearn.linear_model import SGDRegressor\n",
    "elastic_sgd = Pipeline([\n",
    "    ('poly', PolynomialFeatures(degree=2, include_bias=False)),\n",
    "    ('scal', StandardScaler()),\n",
    "    ('elastic', SGDRegressor(penalty='l2', l1_ratio=0.5, alpha=1, \\\n",
    "                             random_state=1))\n",
    "])\n",
    "elastic_sgd.fit(x1_train, y_train.ravel())"
   ]
  },
  {
   "cell_type": "code",
   "execution_count": 47,
   "id": "4e7789d8",
   "metadata": {},
   "outputs": [
    {
     "data": {
      "text/plain": [
       "(0.48914255940966433, 0.4132817374249068)"
      ]
     },
     "execution_count": 47,
     "metadata": {},
     "output_type": "execute_result"
    }
   ],
   "source": [
    "elastic_sgd.score(x1_train, y_train), elastic_sgd.score(x1_test, y_test)"
   ]
  },
  {
   "cell_type": "code",
   "execution_count": 48,
   "id": "4ef0c2b8",
   "metadata": {},
   "outputs": [
    {
     "data": {
      "text/plain": [
       "array([47.78375855, 58.58856714, 35.37888686])"
      ]
     },
     "execution_count": 48,
     "metadata": {},
     "output_type": "execute_result"
    }
   ],
   "source": [
    "elastic_sgd.predict(x1_test[:3])"
   ]
  },
  {
   "cell_type": "markdown",
   "id": "71575963",
   "metadata": {},
   "source": [
    "### 繪製模型"
   ]
  },
  {
   "cell_type": "code",
   "execution_count": 49,
   "id": "b7050ef9",
   "metadata": {},
   "outputs": [
    {
     "data": {
      "image/png": "[encoded data removed]",
      "text/plain": [
       "<Figure size 288x216 with 1 Axes>"
      ]
     },
     "metadata": {
      "needs_background": "light"
     },
     "output_type": "display_data"
    }
   ],
   "source": [
    "plt.figure(figsize=(4, 3))\n",
    "plot_model(elastic_reg, x1, y)\n",
    "plt.show()"
   ]
  }
 ],
 "metadata": {
  "kernelspec": {
   "display_name": "Python 3 (ipykernel)",
   "language": "python",
   "name": "python3"
  },
  "language_info": {
   "codemirror_mode": {
    "name": "ipython",
    "version": 3
   },
   "file_extension": ".py",
   "mimetype": "text/x-python",
   "name": "python",
   "nbconvert_exporter": "python",
   "pygments_lexer": "ipython3",
   "version": "3.9.12"
  }
 },
 "nbformat": 4,
 "nbformat_minor": 5
}
