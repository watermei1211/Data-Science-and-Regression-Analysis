{
 "cells": [
  {
   "cell_type": "markdown",
   "id": "ac6892fd",
   "metadata": {},
   "source": [
    "學號：0111109069 姓名：李佳毓\\\n",
    "作業題目：上傳Code: LSM, Gradient descent\\\n",
    "繳交期限：2022/9/24 9:30"
   ]
  },
  {
   "cell_type": "markdown",
   "id": "d5ada00f",
   "metadata": {
    "tags": []
   },
   "source": [
    "# LSM (Least Squares Method)"
   ]
  },
  {
   "cell_type": "code",
   "execution_count": 1,
   "id": "773fd9e1",
   "metadata": {},
   "outputs": [],
   "source": [
    "import numpy as np    #矩陣運算資料庫\n",
    "import matplotlib.pyplot as plt    #畫圖資料庫"
   ]
  },
  {
   "cell_type": "code",
   "execution_count": 2,
   "id": "7ae1ff84",
   "metadata": {},
   "outputs": [],
   "source": [
    "np.random.seed(1)    #設定seed(),保證每次執行的結果一樣\n",
    "m = 100    #樣本數\n",
    "\n",
    "x1 = 50 + 30 * np.random.rand(m,1)    #生成m*1的array,值從0~1之間隨機產生\n",
    "y = 135 + 0.5 * x1 + 3 * np.random.randn(m,1)    #截距項&係數(weight),增加隨機誤差,randn()標準常態分配"
   ]
  },
  {
   "cell_type": "code",
   "execution_count": 3,
   "id": "f1facf62",
   "metadata": {},
   "outputs": [
    {
     "data": {
      "text/plain": [
       "array([[62.51066014],\n",
       "       [71.6097348 ],\n",
       "       [50.00343124],\n",
       "       [59.06997718],\n",
       "       [54.40267672]])"
      ]
     },
     "execution_count": 3,
     "metadata": {},
     "output_type": "execute_result"
    }
   ],
   "source": [
    "x1[:5]"
   ]
  },
  {
   "cell_type": "code",
   "execution_count": 4,
   "id": "7d9b03b4",
   "metadata": {},
   "outputs": [
    {
     "data": {
      "text/plain": [
       "array([[167.20223491],\n",
       "       [164.73826375],\n",
       "       [159.08310358],\n",
       "       [167.01891252],\n",
       "       [162.89162257]])"
      ]
     },
     "execution_count": 4,
     "metadata": {},
     "output_type": "execute_result"
    }
   ],
   "source": [
    "y[:5]"
   ]
  },
  {
   "cell_type": "markdown",
   "id": "1e956e7f",
   "metadata": {
    "tags": []
   },
   "source": [
    "## 散布圖(Scatter)"
   ]
  },
  {
   "cell_type": "code",
   "execution_count": 5,
   "id": "ad113506",
   "metadata": {},
   "outputs": [
    {
     "data": {
      "image/png": "[encoded data removed]",
      "text/plain": [
       "<Figure size 360x288 with 1 Axes>"
      ]
     },
     "metadata": {
      "needs_background": "light"
     },
     "output_type": "display_data"
    }
   ],
   "source": [
    "plt.figure(figsize=(5,4))    #設定圖的大小\n",
    "\n",
    "plt.plot(x1, y, \"b.\")    #x對y畫藍色點\n",
    "\n",
    "plt.xlabel(\"$x_1$\", fontsize=20)    #x1文字\n",
    "plt.ylabel(\"$y$\", rotation=0, fontsize=20)    #y文字,rotation=0直放\n",
    "\n",
    "plt.savefig(\"plot_ex1.pdf\", dpi=300, bbox_inches='tight')    #savefig()存圖\n",
    "\n",
    "plt.show()    #每次show出"
   ]
  },
  {
   "cell_type": "markdown",
   "id": "83f09b06",
   "metadata": {},
   "source": [
    "##  使用sklearn : LinearRegression()\n",
    "\n",
    "### Fit (試配模型)\n",
    "<font style=background:yellow><font color=Red>透過LinearRegression()用.fit的方式得到最佳模型<font><style>"
   ]
  },
  {
   "cell_type": "code",
   "execution_count": 6,
   "id": "ce8b03ac",
   "metadata": {},
   "outputs": [
    {
     "data": {
      "text/plain": [
       "LinearRegression()"
      ]
     },
     "execution_count": 6,
     "metadata": {},
     "output_type": "execute_result"
    }
   ],
   "source": [
    "from sklearn.linear_model import LinearRegression\n",
    "\n",
    "lin_reg = LinearRegression()\n",
    "lin_reg.fit(x1, y)"
   ]
  },
  {
   "cell_type": "code",
   "execution_count": 7,
   "id": "d1856934",
   "metadata": {},
   "outputs": [
    {
     "data": {
      "text/plain": [
       "(array([137.28624632]), array([[0.46849251]]))"
      ]
     },
     "execution_count": 7,
     "metadata": {},
     "output_type": "execute_result"
    }
   ],
   "source": [
    "lin_reg.intercept_, lin_reg.coef_    #找b和w,適配好模型"
   ]
  },
  {
   "cell_type": "markdown",
   "id": "85b78707",
   "metadata": {},
   "source": [
    "### Predict "
   ]
  },
  {
   "cell_type": "code",
   "execution_count": 8,
   "id": "61f9deff",
   "metadata": {},
   "outputs": [
    {
     "data": {
      "text/plain": [
       "array([[160.71087176],\n",
       "       [174.76564703]])"
      ]
     },
     "execution_count": 8,
     "metadata": {},
     "output_type": "execute_result"
    }
   ],
   "source": [
    "x1_new = np.array([[50], [80]])\n",
    "                   \n",
    "lin_reg.predict(x1_new)"
   ]
  },
  {
   "cell_type": "markdown",
   "id": "5de130f8",
   "metadata": {},
   "source": [
    "### Plot the regression model"
   ]
  },
  {
   "cell_type": "code",
   "execution_count": 9,
   "id": "12cb4110",
   "metadata": {},
   "outputs": [
    {
     "data": {
      "image/png": "[encoded data removed]",
      "text/plain": [
       "<Figure size 360x288 with 1 Axes>"
      ]
     },
     "metadata": {
      "needs_background": "light"
     },
     "output_type": "display_data"
    }
   ],
   "source": [
    "plt.figure(figsize=(5,4))\n",
    "\n",
    "x1s = np.linspace(x1.min(),x1.max(),10).reshape(-1,1)    #產生一組數列,維度改變成10*1的array\n",
    "y_pred = lin_reg.predict(x1s)\n",
    "\n",
    "plt.plot(x1, y, \"b.\")\n",
    "plt.plot(x1s, y_pred, \"r-\", linewidth=2, label=\"$\\hat y$\")\n",
    "\n",
    "plt.xlabel(\"$x_1$\", fontsize=18)\n",
    "plt.ylabel(\"$y$\", rotation=0, fontsize=18)\n",
    "plt.legend(loc=\"upper left\", fontsize=14)\n",
    "\n",
    "plt.show()"
   ]
  },
  {
   "cell_type": "markdown",
   "id": "64799eb6",
   "metadata": {
    "tags": []
   },
   "source": [
    "## 適配模型：自己動手刻<br>使用矩陣計算 Nornal Equation\n",
    "\n",
    "### fit"
   ]
  },
  {
   "cell_type": "code",
   "execution_count": 10,
   "id": "53e5d948",
   "metadata": {},
   "outputs": [
    {
     "data": {
      "text/plain": [
       "array([[ 1.        , 62.51066014],\n",
       "       [ 1.        , 71.6097348 ],\n",
       "       [ 1.        , 50.00343124],\n",
       "       [ 1.        , 59.06997718],\n",
       "       [ 1.        , 54.40267672]])"
      ]
     },
     "execution_count": 10,
     "metadata": {},
     "output_type": "execute_result"
    }
   ],
   "source": [
    "X = np.c_[np.ones((x1.shape[0], 1)), x1]    #把1跟x1的資料合併,1要產生100筆\n",
    "X[:5]"
   ]
  },
  {
   "cell_type": "code",
   "execution_count": 11,
   "id": "08eacf24",
   "metadata": {},
   "outputs": [
    {
     "data": {
      "text/plain": [
       "array([[137.28624632],\n",
       "       [  0.46849251]])"
      ]
     },
     "execution_count": 11,
     "metadata": {},
     "output_type": "execute_result"
    }
   ],
   "source": [
    "theta = np.linalg.inv(X.T.dot(X)).dot(X.T).dot(y)    #矩陣運算\n",
    "theta"
   ]
  },
  {
   "cell_type": "markdown",
   "id": "1d2b5c2a",
   "metadata": {},
   "source": [
    "### Predict"
   ]
  },
  {
   "cell_type": "code",
   "execution_count": 12,
   "id": "b1240d97",
   "metadata": {},
   "outputs": [
    {
     "data": {
      "text/plain": [
       "array([[160.71087176],\n",
       "       [174.76564703]])"
      ]
     },
     "execution_count": 12,
     "metadata": {},
     "output_type": "execute_result"
    }
   ],
   "source": [
    "x1_new = np.array([[50], [80]])\n",
    "X_new = np.c_[np.ones((2, 1)), x1_new]\n",
    "\n",
    "y_pred =X_new.dot(theta)    #X_new乘上θ hat\n",
    "y_pred"
   ]
  },
  {
   "cell_type": "markdown",
   "id": "29464ddf-5795-49e6-bda7-b1240ef8fb19",
   "metadata": {
    "tags": []
   },
   "source": [
    "# Gradient Descent"
   ]
  },
  {
   "cell_type": "code",
   "execution_count": 13,
   "id": "300609af-dd9d-4368-894a-b29501729e8b",
   "metadata": {},
   "outputs": [],
   "source": [
    "import numpy as np\n",
    "import matplotlib.pyplot as plt"
   ]
  },
  {
   "cell_type": "code",
   "execution_count": 14,
   "id": "05d1e766-0bd3-4318-a5f4-8dd62dd849a6",
   "metadata": {},
   "outputs": [],
   "source": [
    "np.random.seed(1)\n",
    "\n",
    "m = 100\n",
    "\n",
    "x1 = 50 + 30 * np.random.rand(m, 1)\n",
    "y = 135 + 0.5 * x1 + 3 * np.random.randn(m, 1)"
   ]
  },
  {
   "cell_type": "markdown",
   "id": "55d0eaeb-b0d8-4592-af67-1a37f4fdc96d",
   "metadata": {
    "tags": []
   },
   "source": [
    "## 資料前處理 ( Preprocessing)\n",
    "### Feature 標準化 (標準化的過程就是資料前處理)"
   ]
  },
  {
   "cell_type": "code",
   "execution_count": 15,
   "id": "8b1b014f-2f33-4236-9207-90ba5520132d",
   "metadata": {},
   "outputs": [
    {
     "data": {
      "text/plain": [
       "array([[-0.23388437],\n",
       "       [ 0.79634961],\n",
       "       [-1.65000333],\n",
       "       [-0.62345239],\n",
       "       [-1.15190299]])"
      ]
     },
     "execution_count": 15,
     "metadata": {},
     "output_type": "execute_result"
    }
   ],
   "source": [
    "from sklearn.preprocessing import StandardScaler    \n",
    "\n",
    "scal = StandardScaler()\n",
    "x1_scal = scal.fit_transform(x1)\n",
    "#資料進行標準化,fit會把feature的平均數和標準差算出,transform把feature減平均數再除以標準差,使用fit_transform會把x1做標準常態轉換\n",
    "\n",
    "x1_scal[:5]"
   ]
  },
  {
   "cell_type": "code",
   "execution_count": 16,
   "id": "a02f63ff-b74a-4add-8b48-1f287f782f2f",
   "metadata": {},
   "outputs": [
    {
     "data": {
      "text/plain": [
       "(array([64.57633783]), array([8.83204675]))"
      ]
     },
     "execution_count": 16,
     "metadata": {},
     "output_type": "execute_result"
    }
   ],
   "source": [
    "scal.mean_, scal.scale_    #平均值,標準差"
   ]
  },
  {
   "cell_type": "markdown",
   "id": "82a4bab2-7e18-4a70-9635-cba4db058939",
   "metadata": {},
   "source": [
    "## 配適模型<br>使用sklearn：SGDRegressor()<br>SGD=Stochastic Gradient Descent 隨機梯度下降法\n",
    "### Fit"
   ]
  },
  {
   "cell_type": "code",
   "execution_count": 17,
   "id": "cd0b6818-2e7d-464f-a61d-848786920791",
   "metadata": {},
   "outputs": [
    {
     "data": {
      "text/plain": [
       "SGDRegressor(eta0=0.1, penalty=None)"
      ]
     },
     "execution_count": 17,
     "metadata": {},
     "output_type": "execute_result"
    }
   ],
   "source": [
    "from sklearn.linear_model import SGDRegressor\n",
    "\n",
    "sgd_reg = SGDRegressor(max_iter=1000, tol=1e-3, penalty=None, eta0=.1)    #超參數調整, tolerance= ε,eta0=0.1=學習速率的初始值\n",
    "sgd_reg.fit(x1_scal,y.ravel())    #將標準化過的x, y進行fit(),ravel()把y的shape做轉換"
   ]
  },
  {
   "cell_type": "code",
   "execution_count": 18,
   "id": "a378b812-b645-49de-bb4c-3fb468a4d8a5",
   "metadata": {},
   "outputs": [
    {
     "data": {
      "text/plain": [
       "(array([167.59478302]), array([4.29447724]))"
      ]
     },
     "execution_count": 18,
     "metadata": {},
     "output_type": "execute_result"
    }
   ],
   "source": [
    "sgd_reg.intercept_, sgd_reg.coef_    #b, w"
   ]
  },
  {
   "cell_type": "markdown",
   "id": "54fc4ea2-a25f-4b15-8c3f-d8eb8ad2d8ba",
   "metadata": {},
   "source": [
    "### Predict"
   ]
  },
  {
   "cell_type": "code",
   "execution_count": 19,
   "id": "b4dcf897-432c-4314-bbdf-67175397cd48",
   "metadata": {},
   "outputs": [],
   "source": [
    "x1_new = [[50], [80]]\n",
    "\n",
    "x1_new_scal = scal.transform(x1_new)    #不能直接帶入模型，把feature先做標準化"
   ]
  },
  {
   "cell_type": "code",
   "execution_count": 20,
   "id": "b532548a-f5d5-4b0e-af3d-63e24442f6cc",
   "metadata": {},
   "outputs": [
    {
     "data": {
      "text/plain": [
       "array([160.50721286, 175.09435451])"
      ]
     },
     "execution_count": 20,
     "metadata": {},
     "output_type": "execute_result"
    }
   ],
   "source": [
    "sgd_reg.predict(x1_new_scal)"
   ]
  },
  {
   "cell_type": "markdown",
   "id": "5b3f5baf",
   "metadata": {},
   "source": [
    "<font style=background:yellow><font color=Red>SGD找到的θ ,所代進cost function得到mse並不一定會是最小值，它會在最小值附近跳動\n",
    "所以會有一些小差異，但是不會差很多<font><style>"
   ]
  },
  {
   "cell_type": "markdown",
   "id": "ca65a47b-1c0d-43c7-89be-980b5fc7af58",
   "metadata": {},
   "source": [
    "### 適配模型：自己動手刻"
   ]
  },
  {
   "cell_type": "code",
   "execution_count": 21,
   "id": "1109b17a-04f6-4175-90e2-0f28c23ed34a",
   "metadata": {},
   "outputs": [],
   "source": [
    "X = np.c_[np.ones((m, 1)), x1_scal]"
   ]
  },
  {
   "cell_type": "markdown",
   "id": "19e920ac-dcb5-4edf-a305-706fd5362b5b",
   "metadata": {},
   "source": [
    "### 批次梯度下降法"
   ]
  },
  {
   "cell_type": "code",
   "execution_count": 22,
   "id": "df0de167-88b5-4734-a646-318b33878d69",
   "metadata": {},
   "outputs": [],
   "source": [
    "n_iterations = 1000\n",
    "eta = 0.1    #學習速率\n",
    "\n",
    "theta = np.random.randn(2,1)    #隨機產生theta\n",
    "\n",
    "for t in range(n_iterations):    #從0開始做1000次\n",
    "    gd = 2 / m * X.T.dot(X.dot(theta) - y)    #算出梯度\n",
    "    theta = theta - eta * gd"
   ]
  },
  {
   "cell_type": "code",
   "execution_count": 23,
   "id": "8378ad47-9efb-412f-b772-5afdf69b00eb",
   "metadata": {},
   "outputs": [
    {
     "data": {
      "text/plain": [
       "array([[167.53977684],\n",
       "       [  4.13774774]])"
      ]
     },
     "execution_count": 23,
     "metadata": {},
     "output_type": "execute_result"
    }
   ],
   "source": [
    "theta"
   ]
  },
  {
   "cell_type": "markdown",
   "id": "858d0e84-6523-4e4a-a340-c7016f72c9e1",
   "metadata": {},
   "source": [
    "### 隨機梯度下降法 with Leaning Schedule\n",
    "<font style=background:yellow><font color=Red>eta(學習速率)最好能夠follow Learning Schedule,讓它越來越小越好<font><style>"
   ]
  },
  {
   "cell_type": "code",
   "execution_count": 24,
   "id": "240ef841-eb28-4d28-819a-0ac0f135fac5",
   "metadata": {},
   "outputs": [],
   "source": [
    "def learning_schedule(t, t0, t1):\n",
    "    return t0 / (t + t1)    #持續update t,每次遞迴t就會增加一點點,分母越大傳回去eta越小"
   ]
  },
  {
   "cell_type": "code",
   "execution_count": 25,
   "id": "43d02059-21c4-4ab1-87a3-683a1b52fb37",
   "metadata": {},
   "outputs": [],
   "source": [
    "n_epochs = 50\n",
    "\n",
    "theta = np.random.randn(2, 1)\n",
    "\n",
    "for epoch in range(n_epochs):\n",
    "    for i in range(m):        \n",
    "\n",
    "        ind = np.random.randint(m)   #決定抽取哪個樣本\n",
    "        xi = X[ind:ind+1].T\n",
    "        yi = y[ind:ind+1]\n",
    "\n",
    "        eta = learning_schedule(epoch * m + i, 5, 50)    #epoch是面的迴圈,做50次\n",
    "\n",
    "        gd = 2 * xi.dot(xi.T.dot(theta) - yi)\n",
    "        theta = theta - eta * gd"
   ]
  },
  {
   "cell_type": "code",
   "execution_count": 26,
   "id": "25edcafc-b4b0-4df9-a5de-b107ff1209ef",
   "metadata": {},
   "outputs": [
    {
     "data": {
      "text/plain": [
       "array([[167.56457812],\n",
       "       [  4.28255271]])"
      ]
     },
     "execution_count": 26,
     "metadata": {},
     "output_type": "execute_result"
    }
   ],
   "source": [
    "theta"
   ]
  },
  {
   "cell_type": "markdown",
   "id": "4738b9ea-f508-4733-aa3f-b883c061c6c0",
   "metadata": {},
   "source": [
    "### 小批次梯度下降法 with Leaning Schedule\n",
    "<font style=background:yellow><font color=Red>從m個樣本裡隨機去抽出一定的數量<font><style>"
   ]
  },
  {
   "cell_type": "code",
   "execution_count": 27,
   "id": "29ddab09-f9d8-42f5-81d6-657dc6d8b00c",
   "metadata": {},
   "outputs": [],
   "source": [
    "n_epochs = 50\n",
    "minibatch_size = 20    #決定抽取數量\n",
    "\n",
    "theta = np.random.randn(2,1)\n",
    "\n",
    "t = 0\n",
    "for epoch in range(n_epochs):\n",
    "\n",
    "    ind = np.random.permutation(m)    #把樣本打散\n",
    "    X_shuffled = X[ind]\n",
    "    y_shuffled = y[ind]\n",
    "    \n",
    "    for i in range(0, m, minibatch_size):   \n",
    "\n",
    "        Xi = X_shuffled[i:i+minibatch_size]\n",
    "        yi = y_shuffled[i:i+minibatch_size]\n",
    "        \n",
    "        t += 1\n",
    "        eta = learning_schedule(t, 5, 50)    #t原始為0,每進行一次t會+1,最後回傳的Learning Schedule會越小\n",
    "\n",
    "        gd = 2 / minibatch_size * Xi.T.dot(Xi.dot(theta) - yi)\n",
    "        theta = theta - eta * gd"
   ]
  },
  {
   "cell_type": "code",
   "execution_count": 28,
   "id": "c6ed15a7-b166-467f-b9e7-8c86bec9983f",
   "metadata": {},
   "outputs": [
    {
     "data": {
      "text/plain": [
       "array([[167.53935069],\n",
       "       [  4.13202083]])"
      ]
     },
     "execution_count": 28,
     "metadata": {},
     "output_type": "execute_result"
    }
   ],
   "source": [
    "theta"
   ]
  },
  {
   "cell_type": "markdown",
   "id": "00046157",
   "metadata": {},
   "source": [
    "<font style=background:yellow><font color=Red>總共100樣本,一次抽取20,共會抽取5次,結束之後會把樣本再做一次打散,繼續進行這個小批次的梯度下降法,一直做50次,epoch 50次最後得到 theta<font><style>"
   ]
  }
 ],
 "metadata": {
  "kernelspec": {
   "display_name": "Python 3 (ipykernel)",
   "language": "python",
   "name": "python3"
  },
  "language_info": {
   "codemirror_mode": {
    "name": "ipython",
    "version": 3
   },
   "file_extension": ".py",
   "mimetype": "text/x-python",
   "name": "python",
   "nbconvert_exporter": "python",
   "pygments_lexer": "ipython3",
   "version": "3.9.12"
  }
 },
 "nbformat": 4,
 "nbformat_minor": 5
}
