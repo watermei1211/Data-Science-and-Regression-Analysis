{
 "cells": [
  {
   "cell_type": "markdown",
   "id": "24ddf014",
   "metadata": {},
   "source": [
    "學號：0111109069 姓名：李佳毓\\\n",
    "作業題目：regression code + w4 的2個Codes\\\n",
    "繳交期限：2022/10/8 9:30"
   ]
  },
  {
   "cell_type": "markdown",
   "id": "0d756279",
   "metadata": {},
   "source": [
    "# Softmax Regression"
   ]
  },
  {
   "cell_type": "code",
   "execution_count": 1,
   "id": "f82a3c5e",
   "metadata": {},
   "outputs": [],
   "source": [
    "import numpy as np\n",
    "import matplotlib.pyplot as plt "
   ]
  },
  {
   "cell_type": "markdown",
   "id": "04fa32a7",
   "metadata": {},
   "source": [
    "## Data"
   ]
  },
  {
   "cell_type": "code",
   "execution_count": 2,
   "id": "f16f2253",
   "metadata": {},
   "outputs": [],
   "source": [
    "from sklearn import datasets\n",
    "iris = datasets.load_iris()"
   ]
  },
  {
   "cell_type": "code",
   "execution_count": 3,
   "id": "c0d2a0bc",
   "metadata": {},
   "outputs": [],
   "source": [
    "x = iris[\"data\"][:, :2]\n",
    "y = iris[\"target\"] "
   ]
  },
  {
   "cell_type": "markdown",
   "id": "11606c13",
   "metadata": {},
   "source": [
    "## 配適模型\n",
    "### 使用 LogisticRegression()"
   ]
  },
  {
   "cell_type": "code",
   "execution_count": 4,
   "id": "89c0122e",
   "metadata": {},
   "outputs": [
    {
     "data": {
      "text/plain": [
       "(array([ 13.81862143,  -0.51550497, -13.30311646]),\n",
       " array([[-5.10014342,  4.5761126 ],\n",
       "        [ 1.65077685, -2.55843875],\n",
       "        [ 3.44936658, -2.01767385]]))"
      ]
     },
     "execution_count": 4,
     "metadata": {},
     "output_type": "execute_result"
    }
   ],
   "source": [
    "from sklearn.linear_model import LogisticRegression\n",
    "\n",
    "softmax_reg = LogisticRegression(multi_class='multinomial', C=10, random_state=1)\n",
    "softmax_reg.fit(x, y)\n",
    "softmax_reg.intercept_, softmax_reg.coef_"
   ]
  },
  {
   "cell_type": "code",
   "execution_count": 5,
   "id": "119b4c27",
   "metadata": {},
   "outputs": [
    {
     "data": {
      "text/plain": [
       "0.8333333333333334"
      ]
     },
     "execution_count": 5,
     "metadata": {},
     "output_type": "execute_result"
    }
   ],
   "source": [
    "softmax_reg.score(x, y)"
   ]
  },
  {
   "cell_type": "code",
   "execution_count": 6,
   "id": "d6cc7e9e",
   "metadata": {},
   "outputs": [],
   "source": [
    "x_new = [[6.7, 4.25], [4.9, 3.3], [5.2, 2.5]]"
   ]
  },
  {
   "cell_type": "code",
   "execution_count": 7,
   "id": "89a22a75",
   "metadata": {},
   "outputs": [
    {
     "data": {
      "text/plain": [
       "array([2, 0, 1])"
      ]
     },
     "execution_count": 7,
     "metadata": {},
     "output_type": "execute_result"
    }
   ],
   "source": [
    "softmax_reg.predict(x_new)"
   ]
  },
  {
   "cell_type": "code",
   "execution_count": 8,
   "id": "3a9a8cb2",
   "metadata": {},
   "outputs": [
    {
     "data": {
      "text/plain": [
       "array([[8.89184388e-02, 1.58050678e-01, 7.53030883e-01],\n",
       "       [9.90919922e-01, 8.16614717e-03, 9.13930783e-04],\n",
       "       [4.51456319e-02, 8.49097632e-01, 1.05756737e-01]])"
      ]
     },
     "execution_count": 8,
     "metadata": {},
     "output_type": "execute_result"
    }
   ],
   "source": [
    "softmax_reg.predict_proba(x_new)"
   ]
  },
  {
   "cell_type": "markdown",
   "id": "e4e5750d",
   "metadata": {},
   "source": [
    "## 使用SGDClassifier()"
   ]
  },
  {
   "cell_type": "code",
   "execution_count": 9,
   "id": "45cf9581",
   "metadata": {},
   "outputs": [
    {
     "data": {
      "text/plain": [
       "(array([  55.54618827,  126.76827608, -228.4728105 ]),\n",
       " array([[-100.79931973,  154.5939514 ],\n",
       "        [   4.11931173,  -66.95649133],\n",
       "        [  50.02226368,  -32.46333318]]))"
      ]
     },
     "execution_count": 9,
     "metadata": {},
     "output_type": "execute_result"
    }
   ],
   "source": [
    "from sklearn.linear_model import SGDClassifier\n",
    "\n",
    "sgd_clf = SGDClassifier(loss='log', penalty='l2', alpha=0.0001, random_state=1)\n",
    "sgd_clf.fit(x, y)\n",
    "sgd_clf.intercept_, sgd_clf.coef_"
   ]
  },
  {
   "cell_type": "code",
   "execution_count": 10,
   "id": "9662b8b8",
   "metadata": {},
   "outputs": [
    {
     "data": {
      "text/plain": [
       "0.7266666666666667"
      ]
     },
     "execution_count": 10,
     "metadata": {},
     "output_type": "execute_result"
    }
   ],
   "source": [
    "sgd_clf.score(x, y)"
   ]
  },
  {
   "cell_type": "code",
   "execution_count": 11,
   "id": "02af7800",
   "metadata": {},
   "outputs": [],
   "source": [
    "x_new = [[6.7, 4.25], [4.9, 3.3], [5.2, 2.5]]"
   ]
  },
  {
   "cell_type": "code",
   "execution_count": 12,
   "id": "8f7e4af0",
   "metadata": {},
   "outputs": [
    {
     "data": {
      "text/plain": [
       "array([0, 0, 1])"
      ]
     },
     "execution_count": 12,
     "metadata": {},
     "output_type": "execute_result"
    }
   ],
   "source": [
    "sgd_clf.predict(x_new)"
   ]
  },
  {
   "cell_type": "code",
   "execution_count": 13,
   "id": "8e5675ee",
   "metadata": {},
   "outputs": [
    {
     "data": {
      "text/plain": [
       "array([[1.00000000e+00, 2.85744199e-57, 2.56865255e-14],\n",
       "       [1.00000000e+00, 7.25572081e-33, 5.00624319e-40],\n",
       "       [4.70919996e-28, 1.00000000e+00, 6.84384877e-14]])"
      ]
     },
     "execution_count": 13,
     "metadata": {},
     "output_type": "execute_result"
    }
   ],
   "source": [
    "sgd_clf.predict_proba(x_new)"
   ]
  },
  {
   "cell_type": "markdown",
   "id": "a48b7e13",
   "metadata": {},
   "source": [
    "## Plot of the decision boundary"
   ]
  },
  {
   "cell_type": "code",
   "execution_count": 14,
   "id": "e789b73d",
   "metadata": {},
   "outputs": [],
   "source": [
    "x1, x2 = np.meshgrid(\n",
    "    np.linspace(4.2, 8, 1000).reshape(-1, 1),\n",
    "    np.linspace(1.8, 4.5, 1000).reshape(-1, 1)\n",
    ")\n",
    "x_new = np.c_[x1.ravel(),x2.ravel()]\n",
    "y_pred = softmax_reg.predict(x_new)"
   ]
  },
  {
   "cell_type": "code",
   "execution_count": 15,
   "id": "b23fe46f",
   "metadata": {},
   "outputs": [
    {
     "data": {
      "image/png": "[encoded data removed]",
      "text/plain": [
       "<Figure size 720x288 with 1 Axes>"
      ]
     },
     "metadata": {
      "needs_background": "light"
     },
     "output_type": "display_data"
    }
   ],
   "source": [
    "plt.figure(figsize=(10, 4))\n",
    "plt.plot(x[y==0, 0], x[y==0, 1], \"bo\", label=\"Setosa\")\n",
    "plt.plot(x[y==1, 0], x[y==1, 1], \"rx\", label=\"Versicolor\")\n",
    "plt.plot(x[y==2, 0], x[y==2, 1], \"g^\", label=\"Virginica\")\n",
    "\n",
    "zz = y_pred.reshape(x1.shape)\n",
    "plt.contourf(x1, x2, zz, alpha=0.2)\n",
    "\n",
    "plt.xlabel(\"$x_1$\", fontsize=14)\n",
    "plt.ylabel(\"$x_2$\", fontsize=14)\n",
    "plt.legend(loc=\"upper left\", bbox_to_anchor=(0.69, 1), fontsize=12)\n",
    "plt.axis([4.2, 8, 1.8, 4.5])\n",
    "plt.show()"
   ]
  }
 ],
 "metadata": {
  "kernelspec": {
   "display_name": "Python 3 (ipykernel)",
   "language": "python",
   "name": "python3"
  },
  "language_info": {
   "codemirror_mode": {
    "name": "ipython",
    "version": 3
   },
   "file_extension": ".py",
   "mimetype": "text/x-python",
   "name": "python",
   "nbconvert_exporter": "python",
   "pygments_lexer": "ipython3",
   "version": "3.9.12"
  }
 },
 "nbformat": 4,
 "nbformat_minor": 5
}
