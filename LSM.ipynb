{
 "cells": [
  {
   "cell_type": "code",
   "execution_count": 1,
   "id": "a071384e",
   "metadata": {},
   "outputs": [],
   "source": [
    "import numpy as np\n",
    "import matplotlib.pyplot as plt"
   ]
  },
  {
   "cell_type": "code",
   "execution_count": 2,
   "id": "967072b7",
   "metadata": {},
   "outputs": [],
   "source": [
    "np.random.seed(1)\n",
    "m = 100\n",
    "\n",
    "x1 = 50 + 30 * np.random.rand(m,1)\n",
    "y = 135 + 0.5 * x1 + 3 * np.random.rand(m,1)"
   ]
  },
  {
   "cell_type": "code",
   "execution_count": 3,
   "id": "937c9ba1",
   "metadata": {},
   "outputs": [
    {
     "data": {
      "text/plain": [
       "array([[62.51066014],\n",
       "       [71.6097348 ],\n",
       "       [50.00343124],\n",
       "       [59.06997718],\n",
       "       [54.40267672]])"
      ]
     },
     "execution_count": 3,
     "metadata": {},
     "output_type": "execute_result"
    }
   ],
   "source": [
    "x1[:5]"
   ]
  },
  {
   "cell_type": "code",
   "execution_count": 4,
   "id": "7bf47928",
   "metadata": {},
   "outputs": [
    {
     "data": {
      "text/plain": [
       "array([[167.23526478],\n",
       "       [172.38604171],\n",
       "       [162.65954192],\n",
       "       [165.60679787],\n",
       "       [164.92694382]])"
      ]
     },
     "execution_count": 4,
     "metadata": {},
     "output_type": "execute_result"
    }
   ],
   "source": [
    "y[:5]"
   ]
  },
  {
   "cell_type": "markdown",
   "id": "0e85c9d0",
   "metadata": {},
   "source": [
    "# 散佈圖 (Scatter)"
   ]
  },
  {
   "cell_type": "code",
   "execution_count": 6,
   "id": "4a4fd396",
   "metadata": {},
   "outputs": [
    {
     "data": {
      "image/png": "[encoded data removed]",
      "text/plain": [
       "<Figure size 360x288 with 1 Axes>"
      ]
     },
     "metadata": {
      "needs_background": "light"
     },
     "output_type": "display_data"
    }
   ],
   "source": [
    "plt.figure(figsize=(5,4))\n",
    "\n",
    "plt.plot(x1, y, \"b.\")\n",
    "\n",
    "plt.xlabel(\"$x_1$\", fontsize=18)\n",
    "plt.ylabel(\"$y$\", rotation=0, fontsize=18)\n",
    "\n",
    "plt.savefig(\"plot_ex1.pdf\", dpi=300, bbox_inches='tight')\n",
    "\n",
    "plt.show()"
   ]
  },
  {
   "cell_type": "markdown",
   "id": "41a70d48",
   "metadata": {},
   "source": [
    "#  使用sklearn : LinearRegression()\n",
    "\n",
    "## Fit (試配模型)"
   ]
  },
  {
   "cell_type": "code",
   "execution_count": 9,
   "id": "0a54a7bc",
   "metadata": {},
   "outputs": [
    {
     "data": {
      "text/plain": [
       "LinearRegression()"
      ]
     },
     "execution_count": 9,
     "metadata": {},
     "output_type": "execute_result"
    }
   ],
   "source": [
    "from sklearn.linear_model import LinearRegression\n",
    "\n",
    "lin_reg = LinearRegression()\n",
    "lin_reg.fit(x1, y)"
   ]
  },
  {
   "cell_type": "code",
   "execution_count": 10,
   "id": "44964b23",
   "metadata": {},
   "outputs": [
    {
     "data": {
      "text/plain": [
       "(array([136.62700223]), array([[0.49732897]]))"
      ]
     },
     "execution_count": 10,
     "metadata": {},
     "output_type": "execute_result"
    }
   ],
   "source": [
    "lin_reg.intercept_, lin_reg.coef_"
   ]
  },
  {
   "cell_type": "markdown",
   "id": "465a93e4",
   "metadata": {},
   "source": [
    "## Predict"
   ]
  },
  {
   "cell_type": "code",
   "execution_count": 13,
   "id": "b065d95c",
   "metadata": {},
   "outputs": [
    {
     "data": {
      "text/plain": [
       "array([[161.49345093],\n",
       "       [176.41332015]])"
      ]
     },
     "execution_count": 13,
     "metadata": {},
     "output_type": "execute_result"
    }
   ],
   "source": [
    "x1_new = np.array([[50], [80]])\n",
    "                   \n",
    "lin_reg.predict(x1_new)"
   ]
  },
  {
   "cell_type": "markdown",
   "id": "51c4b223",
   "metadata": {},
   "source": [
    "## Plot the regression model"
   ]
  },
  {
   "cell_type": "code",
   "execution_count": 22,
   "id": "7fb097dc",
   "metadata": {},
   "outputs": [
    {
     "data": {
      "image/png": "[encoded data removed]",
      "text/plain": [
       "<Figure size 360x288 with 1 Axes>"
      ]
     },
     "metadata": {
      "needs_background": "light"
     },
     "output_type": "display_data"
    }
   ],
   "source": [
    "plt.figure(figsize=(5,4))\n",
    "\n",
    "x1s = np.linspace(x1.min(),x1.max(),10).reshape(-1,1)\n",
    "y_pred = lin_reg.predict(x1s)\n",
    "\n",
    "plt.plot(x1, y, \"b.\")\n",
    "plt.plot(x1s, y_pred, \"r-\", linewidth=2, label=\"$\\hat y$\")\n",
    "\n",
    "plt.xlabel(\"$x_1$\", fontsize=18)\n",
    "plt.ylabel(\"$y$\", rotation=0, fontsize=18)\n",
    "plt.legend(loc=\"upper left\", fontsize=14)\n",
    "\n",
    "plt.show()"
   ]
  },
  {
   "cell_type": "markdown",
   "id": "a7265c02",
   "metadata": {},
   "source": [
    "# 使用矩陣計算 Nornal Equation"
   ]
  },
  {
   "cell_type": "markdown",
   "id": "525d1066",
   "metadata": {},
   "source": [
    "## Fit"
   ]
  },
  {
   "cell_type": "code",
   "execution_count": 16,
   "id": "18c91ff6",
   "metadata": {},
   "outputs": [
    {
     "data": {
      "text/plain": [
       "array([[ 1.        , 62.51066014],\n",
       "       [ 1.        , 71.6097348 ],\n",
       "       [ 1.        , 50.00343124],\n",
       "       [ 1.        , 59.06997718],\n",
       "       [ 1.        , 54.40267672]])"
      ]
     },
     "execution_count": 16,
     "metadata": {},
     "output_type": "execute_result"
    }
   ],
   "source": [
    "X = np.c_[np.ones((x1.shape[0], 1)), x1]\n",
    "X[:5]"
   ]
  },
  {
   "cell_type": "code",
   "execution_count": 17,
   "id": "4cdb3292",
   "metadata": {},
   "outputs": [
    {
     "data": {
      "text/plain": [
       "array([[136.62700223],\n",
       "       [  0.49732897]])"
      ]
     },
     "execution_count": 17,
     "metadata": {},
     "output_type": "execute_result"
    }
   ],
   "source": [
    "theta = np.linalg.inv(X.T.dot(X)).dot(X.T).dot(y)\n",
    "theta"
   ]
  },
  {
   "cell_type": "markdown",
   "id": "c43842fc",
   "metadata": {},
   "source": [
    "## Predict"
   ]
  },
  {
   "cell_type": "code",
   "execution_count": 18,
   "id": "c14f2b01",
   "metadata": {},
   "outputs": [
    {
     "data": {
      "text/plain": [
       "array([[161.49345093],\n",
       "       [176.41332015]])"
      ]
     },
     "execution_count": 18,
     "metadata": {},
     "output_type": "execute_result"
    }
   ],
   "source": [
    "x1_new = np.array([[50], [80]])\n",
    "X_new = np.c_[np.ones((2, 1)), x1_new]\n",
    "\n",
    "y_pred =X_new.dot(theta)\n",
    "y_pred"
   ]
  },
  {
   "cell_type": "code",
   "execution_count": null,
   "id": "6834ca82",
   "metadata": {},
   "outputs": [],
   "source": []
  }
 ],
 "metadata": {
  "kernelspec": {
   "display_name": "Python 3.10.1 64-bit",
   "language": "python",
   "name": "python3"
  },
  "language_info": {
   "codemirror_mode": {
    "name": "ipython",
    "version": 3
   },
   "file_extension": ".py",
   "mimetype": "text/x-python",
   "name": "python",
   "nbconvert_exporter": "python",
   "pygments_lexer": "ipython3",
   "version": "3.10.1"
  },
  "vscode": {
   "interpreter": {
    "hash": "724b0621ab25d1ed72c952cc29b57814f322e989a5a32311760e13033457caf4"
   }
  }
 },
 "nbformat": 4,
 "nbformat_minor": 5
}
