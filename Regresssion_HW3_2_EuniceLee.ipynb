{
 "cells": [
  {
   "cell_type": "markdown",
   "id": "890fbd96",
   "metadata": {},
   "source": [
    "學號：0111109069 姓名：李佳毓\\\n",
    "作業題目：regression code + w4 的2個Codes\\\n",
    "繳交期限：2022/10/8 9:30"
   ]
  },
  {
   "cell_type": "markdown",
   "id": "5171bffc",
   "metadata": {},
   "source": [
    "# Logistic Regression"
   ]
  },
  {
   "cell_type": "code",
   "execution_count": 1,
   "id": "a4036eef",
   "metadata": {},
   "outputs": [],
   "source": [
    "import numpy as np\n",
    "import matplotlib.pyplot as plt"
   ]
  },
  {
   "cell_type": "markdown",
   "id": "5bd40c5d",
   "metadata": {},
   "source": [
    "## Import Data"
   ]
  },
  {
   "cell_type": "code",
   "execution_count": 2,
   "id": "59db8586",
   "metadata": {},
   "outputs": [],
   "source": [
    "from sklearn import datasets\n",
    "iris = datasets.load_iris()"
   ]
  },
  {
   "cell_type": "code",
   "execution_count": 3,
   "id": "5cad3c68",
   "metadata": {},
   "outputs": [
    {
     "data": {
      "text/plain": [
       "dict_keys(['data', 'target', 'frame', 'target_names', 'DESCR', 'feature_names', 'filename', 'data_module'])"
      ]
     },
     "execution_count": 3,
     "metadata": {},
     "output_type": "execute_result"
    }
   ],
   "source": [
    "iris.keys()"
   ]
  },
  {
   "cell_type": "code",
   "execution_count": 4,
   "id": "d782bce3",
   "metadata": {},
   "outputs": [
    {
     "data": {
      "text/plain": [
       "array([0, 0, 0, 0, 0, 0, 0, 0, 0, 0, 0, 0, 0, 0, 0, 0, 0, 0, 0, 0, 0, 0,\n",
       "       0, 0, 0, 0, 0, 0, 0, 0, 0, 0, 0, 0, 0, 0, 0, 0, 0, 0, 0, 0, 0, 0,\n",
       "       0, 0, 0, 0, 0, 0, 1, 1, 1, 1, 1, 1, 1, 1, 1, 1, 1, 1, 1, 1, 1, 1,\n",
       "       1, 1, 1, 1, 1, 1, 1, 1, 1, 1, 1, 1, 1, 1, 1, 1, 1, 1, 1, 1, 1, 1,\n",
       "       1, 1, 1, 1, 1, 1, 1, 1, 1, 1, 1, 1, 2, 2, 2, 2, 2, 2, 2, 2, 2, 2,\n",
       "       2, 2, 2, 2, 2, 2, 2, 2, 2, 2, 2, 2, 2, 2, 2, 2, 2, 2, 2, 2, 2, 2,\n",
       "       2, 2, 2, 2, 2, 2, 2, 2, 2, 2, 2, 2, 2, 2, 2, 2, 2, 2])"
      ]
     },
     "execution_count": 4,
     "metadata": {},
     "output_type": "execute_result"
    }
   ],
   "source": [
    "iris['target']"
   ]
  },
  {
   "cell_type": "code",
   "execution_count": 5,
   "id": "04ee2570",
   "metadata": {},
   "outputs": [
    {
     "data": {
      "text/plain": [
       "array(['setosa', 'versicolor', 'virginica'], dtype='<U10')"
      ]
     },
     "execution_count": 5,
     "metadata": {},
     "output_type": "execute_result"
    }
   ],
   "source": [
    "iris['target_names']"
   ]
  },
  {
   "cell_type": "markdown",
   "id": "14fd2645",
   "metadata": {},
   "source": [
    "## Features"
   ]
  },
  {
   "cell_type": "code",
   "execution_count": 6,
   "id": "55fada06",
   "metadata": {},
   "outputs": [
    {
     "data": {
      "text/plain": [
       "array([[5.1, 3.5, 1.4, 0.2],\n",
       "       [4.9, 3. , 1.4, 0.2],\n",
       "       [4.7, 3.2, 1.3, 0.2],\n",
       "       [4.6, 3.1, 1.5, 0.2],\n",
       "       [5. , 3.6, 1.4, 0.2]])"
      ]
     },
     "execution_count": 6,
     "metadata": {},
     "output_type": "execute_result"
    }
   ],
   "source": [
    "iris['data'][:5]"
   ]
  },
  {
   "cell_type": "code",
   "execution_count": 7,
   "id": "c6039dcb",
   "metadata": {},
   "outputs": [
    {
     "data": {
      "text/plain": [
       "['sepal length (cm)',\n",
       " 'sepal width (cm)',\n",
       " 'petal length (cm)',\n",
       " 'petal width (cm)']"
      ]
     },
     "execution_count": 7,
     "metadata": {},
     "output_type": "execute_result"
    }
   ],
   "source": [
    "iris[\"feature_names\"]"
   ]
  },
  {
   "cell_type": "markdown",
   "id": "c6f9caed",
   "metadata": {},
   "source": [
    "## EX1\n",
    "### Data"
   ]
  },
  {
   "cell_type": "code",
   "execution_count": 8,
   "id": "b045849e",
   "metadata": {},
   "outputs": [
    {
     "name": "stderr",
     "output_type": "stream",
     "text": [
      "C:\\Users\\water\\AppData\\Local\\Temp\\ipykernel_10288\\2414093338.py:2: DeprecationWarning: `np.int` is a deprecated alias for the builtin `int`. To silence this warning, use `int` by itself. Doing this will not modify any behavior and is safe. When replacing `np.int`, you may wish to use e.g. `np.int64` or `np.int32` to specify the precision. If you wish to review your current use, check the release note link for additional information.\n",
      "Deprecated in NumPy 1.20; for more details and guidance: https://numpy.org/devdocs/release/1.20.0-notes.html#deprecations\n",
      "  y = (iris[\"target\"] == 0).astype(np.int) # 轉整數\n"
     ]
    }
   ],
   "source": [
    "x = iris[\"data\"][:, 0].reshape(-1,1)\n",
    "y = (iris[\"target\"] == 0).astype(np.int) # 轉整數"
   ]
  },
  {
   "cell_type": "code",
   "execution_count": 9,
   "id": "bbb6a647",
   "metadata": {},
   "outputs": [
    {
     "data": {
      "text/plain": [
       "array([[5.1],\n",
       "       [4.9],\n",
       "       [4.7]])"
      ]
     },
     "execution_count": 9,
     "metadata": {},
     "output_type": "execute_result"
    }
   ],
   "source": [
    "x[:3]"
   ]
  },
  {
   "cell_type": "code",
   "execution_count": 10,
   "id": "da9f8f04",
   "metadata": {},
   "outputs": [
    {
     "data": {
      "text/plain": [
       "array([1, 1, 1, 1, 1, 1, 1, 1, 1, 1, 1, 1, 1, 1, 1, 1, 1, 1, 1, 1, 1, 1,\n",
       "       1, 1, 1, 1, 1, 1, 1, 1, 1, 1, 1, 1, 1, 1, 1, 1, 1, 1, 1, 1, 1, 1,\n",
       "       1, 1, 1, 1, 1, 1, 0, 0, 0, 0, 0, 0, 0, 0, 0, 0, 0, 0, 0, 0, 0, 0,\n",
       "       0, 0, 0, 0, 0, 0, 0, 0, 0, 0, 0, 0, 0, 0, 0, 0, 0, 0, 0, 0, 0, 0,\n",
       "       0, 0, 0, 0, 0, 0, 0, 0, 0, 0, 0, 0, 0, 0, 0, 0, 0, 0, 0, 0, 0, 0,\n",
       "       0, 0, 0, 0, 0, 0, 0, 0, 0, 0, 0, 0, 0, 0, 0, 0, 0, 0, 0, 0, 0, 0,\n",
       "       0, 0, 0, 0, 0, 0, 0, 0, 0, 0, 0, 0, 0, 0, 0, 0, 0, 0])"
      ]
     },
     "execution_count": 10,
     "metadata": {},
     "output_type": "execute_result"
    }
   ],
   "source": [
    "y"
   ]
  },
  {
   "cell_type": "markdown",
   "id": "a18890a7",
   "metadata": {},
   "source": [
    "### 配適模型\n",
    "### 使用LogisticRegression()"
   ]
  },
  {
   "cell_type": "code",
   "execution_count": 11,
   "id": "4d9f7fe5",
   "metadata": {},
   "outputs": [
    {
     "data": {
      "text/plain": [
       "(array([18.5455613]), array([[-3.45772499]]))"
      ]
     },
     "execution_count": 11,
     "metadata": {},
     "output_type": "execute_result"
    }
   ],
   "source": [
    "from sklearn.linear_model import LogisticRegression\n",
    "\n",
    "log_reg = LogisticRegression(solver=\"lbfgs\", C=1, random_state=1) #l2,ridge正則化,用C控制,C越大限制越小\n",
    "log_reg.fit(x,y)\n",
    "log_reg.intercept_, log_reg.coef_"
   ]
  },
  {
   "cell_type": "code",
   "execution_count": 12,
   "id": "663d6bdd",
   "metadata": {},
   "outputs": [
    {
     "data": {
      "text/plain": [
       "0.8933333333333333"
      ]
     },
     "execution_count": 12,
     "metadata": {},
     "output_type": "execute_result"
    }
   ],
   "source": [
    "log_reg.score(x,y)"
   ]
  },
  {
   "cell_type": "code",
   "execution_count": 13,
   "id": "68f35a4c",
   "metadata": {},
   "outputs": [
    {
     "data": {
      "text/plain": [
       "array([1, 0])"
      ]
     },
     "execution_count": 13,
     "metadata": {},
     "output_type": "execute_result"
    }
   ],
   "source": [
    "x_new = [[5],[6.5]]\n",
    "\n",
    "log_reg.predict(x_new)"
   ]
  },
  {
   "cell_type": "code",
   "execution_count": 14,
   "id": "6d22c479",
   "metadata": {},
   "outputs": [
    {
     "data": {
      "text/plain": [
       "array([[0.22150173, 0.77849827],\n",
       "       [0.98072817, 0.01927183]])"
      ]
     },
     "execution_count": 14,
     "metadata": {},
     "output_type": "execute_result"
    }
   ],
   "source": [
    "log_reg.predict_proba(x_new)"
   ]
  },
  {
   "cell_type": "markdown",
   "id": "1e52af47",
   "metadata": {},
   "source": [
    "### 使用SGDClassifier()  處理類別的資料"
   ]
  },
  {
   "cell_type": "code",
   "execution_count": 15,
   "id": "a54c9c6d",
   "metadata": {},
   "outputs": [
    {
     "data": {
      "text/plain": [
       "(array([321.68580859]), array([[-61.90239437]]))"
      ]
     },
     "execution_count": 15,
     "metadata": {},
     "output_type": "execute_result"
    }
   ],
   "source": [
    "from sklearn.linear_model import SGDClassifier\n",
    "\n",
    "sgd_clf = SGDClassifier(loss='log', penalty='l2', alpha = 0.0001, random_state = 1)\n",
    "\n",
    "sgd_clf.fit(x,y)\n",
    "sgd_clf.intercept_, sgd_clf.coef_"
   ]
  },
  {
   "cell_type": "code",
   "execution_count": 16,
   "id": "659d7887",
   "metadata": {},
   "outputs": [
    {
     "data": {
      "text/plain": [
       "0.8733333333333333"
      ]
     },
     "execution_count": 16,
     "metadata": {},
     "output_type": "execute_result"
    }
   ],
   "source": [
    "sgd_clf.score(x, y)"
   ]
  },
  {
   "cell_type": "code",
   "execution_count": 17,
   "id": "61122218",
   "metadata": {},
   "outputs": [
    {
     "data": {
      "text/plain": [
       "array([1, 0])"
      ]
     },
     "execution_count": 17,
     "metadata": {},
     "output_type": "execute_result"
    }
   ],
   "source": [
    "x_new = [[5],[6.5]]\n",
    "sgd_clf.predict(x_new)"
   ]
  },
  {
   "cell_type": "code",
   "execution_count": 18,
   "id": "573c0b1c",
   "metadata": {},
   "outputs": [
    {
     "data": {
      "text/plain": [
       "array([[5.16377895e-06, 9.99994836e-01],\n",
       "       [1.00000000e+00, 9.14592585e-36]])"
      ]
     },
     "execution_count": 18,
     "metadata": {},
     "output_type": "execute_result"
    }
   ],
   "source": [
    "sgd_clf.predict_proba(x_new)"
   ]
  },
  {
   "cell_type": "markdown",
   "id": "4fbeea80",
   "metadata": {},
   "source": [
    "### Decision Boundary"
   ]
  },
  {
   "cell_type": "code",
   "execution_count": 19,
   "id": "bcaf4cc1",
   "metadata": {},
   "outputs": [
    {
     "data": {
      "text/plain": [
       "array([[5.36351542]])"
      ]
     },
     "execution_count": 19,
     "metadata": {},
     "output_type": "execute_result"
    }
   ],
   "source": [
    "# h=0, i.e. 0=b+w1x1 => x1=-b/w1\n",
    "decision_boundary = -log_reg.intercept_ / log_reg.coef_\n",
    "decision_boundary"
   ]
  },
  {
   "cell_type": "markdown",
   "id": "821d2708",
   "metadata": {},
   "source": [
    "### Plot of the decision boundary"
   ]
  },
  {
   "cell_type": "code",
   "execution_count": 20,
   "id": "f37a242a",
   "metadata": {},
   "outputs": [
    {
     "data": {
      "image/png": "[encoded data removed]",
      "text/plain": [
       "<Figure size 576x216 with 1 Axes>"
      ]
     },
     "metadata": {
      "needs_background": "light"
     },
     "output_type": "display_data"
    }
   ],
   "source": [
    "import matplotlib.pyplot as plt \n",
    "\n",
    "xs = np.linspace(3, 9, 100).reshape(-1, 1)\n",
    "y_proba = log_reg.predict_proba(xs)\n",
    "\n",
    "plt.figure(figsize=(8, 3))\n",
    "plt.plot(x[y==1], y[y==1], \"b.\", label=\"Setosa\")\n",
    "plt.plot(x[y==0], y[y==0], \"rx\", label=\"Not Setosa\")\n",
    "\n",
    "plt.plot(xs, y_proba[:, 0], \"r:\")\n",
    "plt.plot(xs, y_proba[:, 1], \"b:\")\n",
    "\n",
    "plt.plot([decision_boundary[0], decision_boundary[0]], [0, 1], \"k--\", \\\n",
    "         label='Boundary')\n",
    "\n",
    "plt.xlabel(\"$x_1$\", fontsize=14)\n",
    "plt.ylabel(\"$\\hat p$\", fontsize=14)\n",
    "plt.legend(loc=\"center right\", fontsize=14)\n",
    "\n",
    "plt.show()"
   ]
  },
  {
   "cell_type": "markdown",
   "id": "34f16290",
   "metadata": {},
   "source": [
    "## Ex2\n",
    "### Data"
   ]
  },
  {
   "cell_type": "code",
   "execution_count": 21,
   "id": "1b73181a",
   "metadata": {},
   "outputs": [
    {
     "name": "stderr",
     "output_type": "stream",
     "text": [
      "C:\\Users\\water\\AppData\\Local\\Temp\\ipykernel_10288\\1073149446.py:2: DeprecationWarning: `np.int` is a deprecated alias for the builtin `int`. To silence this warning, use `int` by itself. Doing this will not modify any behavior and is safe. When replacing `np.int`, you may wish to use e.g. `np.int64` or `np.int32` to specify the precision. If you wish to review your current use, check the release note link for additional information.\n",
      "Deprecated in NumPy 1.20; for more details and guidance: https://numpy.org/devdocs/release/1.20.0-notes.html#deprecations\n",
      "  y = (iris[\"target\"] == 0).astype(np.int)\n"
     ]
    }
   ],
   "source": [
    "x = iris[\"data\"][:, :2]\n",
    "y = (iris[\"target\"] == 0).astype(np.int) "
   ]
  },
  {
   "cell_type": "code",
   "execution_count": 22,
   "id": "50b5f1f3",
   "metadata": {},
   "outputs": [
    {
     "data": {
      "text/plain": [
       "array([[5.1, 3.5],\n",
       "       [4.9, 3. ],\n",
       "       [4.7, 3.2]])"
      ]
     },
     "execution_count": 22,
     "metadata": {},
     "output_type": "execute_result"
    }
   ],
   "source": [
    "x[:3]"
   ]
  },
  {
   "cell_type": "code",
   "execution_count": 23,
   "id": "e52a5ec1",
   "metadata": {},
   "outputs": [
    {
     "data": {
      "text/plain": [
       "array([1, 1, 1, 1, 1, 1, 1, 1, 1, 1, 1, 1, 1, 1, 1, 1, 1, 1, 1, 1, 1, 1,\n",
       "       1, 1, 1, 1, 1, 1, 1, 1, 1, 1, 1, 1, 1, 1, 1, 1, 1, 1, 1, 1, 1, 1,\n",
       "       1, 1, 1, 1, 1, 1, 0, 0, 0, 0, 0, 0, 0, 0, 0, 0, 0, 0, 0, 0, 0, 0,\n",
       "       0, 0, 0, 0, 0, 0, 0, 0, 0, 0, 0, 0, 0, 0, 0, 0, 0, 0, 0, 0, 0, 0,\n",
       "       0, 0, 0, 0, 0, 0, 0, 0, 0, 0, 0, 0, 0, 0, 0, 0, 0, 0, 0, 0, 0, 0,\n",
       "       0, 0, 0, 0, 0, 0, 0, 0, 0, 0, 0, 0, 0, 0, 0, 0, 0, 0, 0, 0, 0, 0,\n",
       "       0, 0, 0, 0, 0, 0, 0, 0, 0, 0, 0, 0, 0, 0, 0, 0, 0, 0])"
      ]
     },
     "execution_count": 23,
     "metadata": {},
     "output_type": "execute_result"
    }
   ],
   "source": [
    "y"
   ]
  },
  {
   "cell_type": "markdown",
   "id": "b9f717f0",
   "metadata": {},
   "source": [
    "### 配適模型\n",
    "### 使用 LogisticRegression()"
   ]
  },
  {
   "cell_type": "code",
   "execution_count": 24,
   "id": "bbdb8b3e",
   "metadata": {},
   "outputs": [
    {
     "data": {
      "text/plain": [
       "(array([8.32330389]), array([[-3.38829757,  3.1645277 ]]))"
      ]
     },
     "execution_count": 24,
     "metadata": {},
     "output_type": "execute_result"
    }
   ],
   "source": [
    "from sklearn.linear_model import LogisticRegression\n",
    "\n",
    "log_reg = LogisticRegression(solver=\"lbfgs\", C=1, random_state=42)\n",
    "log_reg.fit(x, y)\n",
    "log_reg.intercept_, log_reg.coef_"
   ]
  },
  {
   "cell_type": "code",
   "execution_count": 25,
   "id": "d8ce5a60",
   "metadata": {},
   "outputs": [
    {
     "data": {
      "text/plain": [
       "1.0"
      ]
     },
     "execution_count": 25,
     "metadata": {},
     "output_type": "execute_result"
    }
   ],
   "source": [
    "log_reg.score(x, y)"
   ]
  },
  {
   "cell_type": "code",
   "execution_count": 26,
   "id": "6dab2cdb",
   "metadata": {},
   "outputs": [
    {
     "data": {
      "text/plain": [
       "array([0, 1])"
      ]
     },
     "execution_count": 26,
     "metadata": {},
     "output_type": "execute_result"
    }
   ],
   "source": [
    "x_new = [[5.5, 2.8],[4.5, 3.25]]\n",
    "log_reg.predict(x_new)"
   ]
  },
  {
   "cell_type": "code",
   "execution_count": 27,
   "id": "042d7b3a",
   "metadata": {},
   "outputs": [
    {
     "data": {
      "text/plain": [
       "array([[0.81025304, 0.18974696],\n",
       "       [0.03354717, 0.96645283]])"
      ]
     },
     "execution_count": 27,
     "metadata": {},
     "output_type": "execute_result"
    }
   ],
   "source": [
    "log_reg.predict_proba(x_new)"
   ]
  },
  {
   "cell_type": "markdown",
   "id": "57cfb54d",
   "metadata": {},
   "source": [
    "### Decision Boundary"
   ]
  },
  {
   "cell_type": "code",
   "execution_count": 28,
   "id": "e7f2ad98",
   "metadata": {},
   "outputs": [
    {
     "data": {
      "text/plain": [
       "array([[4.25      , 1.92033737],\n",
       "       [5.175     , 2.9107459 ],\n",
       "       [6.1       , 3.90115444],\n",
       "       [7.025     , 4.89156298],\n",
       "       [7.95      , 5.88197152]])"
      ]
     },
     "execution_count": 28,
     "metadata": {},
     "output_type": "execute_result"
    }
   ],
   "source": [
    "# b+w1x1+w2x2=0 => (x1, x2), where x2=-(b+w1x1)/w2\n",
    "\n",
    "x1_boundary = np.linspace(x.min(axis=0)[0]-0.05, x.max(axis=0)[0]+0.05, 5)\n",
    "x2_boundary = - (log_reg.intercept_[0] + log_reg.coef_[0][0] * x1_boundary) / log_reg.coef_[0][1]\n",
    "boundary = np.c_[x1_boundary, x2_boundary]\n",
    "boundary"
   ]
  },
  {
   "cell_type": "markdown",
   "id": "a7f5e49d",
   "metadata": {},
   "source": [
    "### Plot of the decision boundary"
   ]
  },
  {
   "cell_type": "code",
   "execution_count": 29,
   "id": "f4bc77e9",
   "metadata": {},
   "outputs": [
    {
     "data": {
      "image/png": "[encoded data removed]",
      "text/plain": [
       "<Figure size 576x216 with 1 Axes>"
      ]
     },
     "metadata": {
      "needs_background": "light"
     },
     "output_type": "display_data"
    }
   ],
   "source": [
    "x1s = np.linspace(4.2, 8, 100).reshape(-1, 1)\n",
    "x2s = np.linspace(1.5, 6, 100).reshape(-1, 1)\n",
    "\n",
    "x1, x2 = np.meshgrid(x1s, x2s)\n",
    "x_new = np.c_[x1.ravel(), x2.ravel()]\n",
    "y_pred = log_reg.predict(x_new)\n",
    "\n",
    "plt.figure(figsize=(8, 3))\n",
    "plt.plot(x[y==1, 0], x[y==1,1], \"b.\", label=\"Setosa\")\n",
    "plt.plot(x[y==0, 0], x[y==0,1], \"rx\", label=\"Not Setosa\")\n",
    "\n",
    "zz = y_pred.reshape(x1.shape)\n",
    "plt.contourf(x1, x2, zz, alpha=0.2)\n",
    "plt.plot(boundary[:, 0], boundary[:, 1], \"k--\", label='Boundary')\n",
    "\n",
    "plt.xlabel(\"$x_1$\", fontsize=14)\n",
    "plt.ylabel(\"$x_2$\", fontsize=14)\n",
    "plt.legend(loc=\"upper left\", fontsize=12)\n",
    "\n",
    "plt.show()"
   ]
  }
 ],
 "metadata": {
  "kernelspec": {
   "display_name": "Python 3 (ipykernel)",
   "language": "python",
   "name": "python3"
  },
  "language_info": {
   "codemirror_mode": {
    "name": "ipython",
    "version": 3
   },
   "file_extension": ".py",
   "mimetype": "text/x-python",
   "name": "python",
   "nbconvert_exporter": "python",
   "pygments_lexer": "ipython3",
   "version": "3.9.12"
  }
 },
 "nbformat": 4,
 "nbformat_minor": 5
}
